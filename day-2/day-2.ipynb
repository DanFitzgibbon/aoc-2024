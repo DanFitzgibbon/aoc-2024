{
 "cells": [
  {
   "cell_type": "markdown",
   "metadata": {},
   "source": [
    "# First Part"
   ]
  },
  {
   "cell_type": "code",
   "execution_count": 2,
   "metadata": {},
   "outputs": [],
   "source": [
    "# Load input\n",
    "\n",
    "with open('input.txt', 'r') as f:\n",
    "    input = f.read()"
   ]
  },
  {
   "cell_type": "code",
   "execution_count": 43,
   "metadata": {},
   "outputs": [
    {
     "name": "stdout",
     "output_type": "stream",
     "text": [
      "472\n"
     ]
    }
   ],
   "source": [
    "# Parse different reports and check with reports (rows) have increasing values or decreasing values with steps by at least one and at most 3\n",
    "\n",
    "def split_ints_from_str(s):\n",
    "    return [int(x) for x in s.split()]\n",
    "\n",
    "pa_safe = 0\n",
    "safe_reports = 0\n",
    "\n",
    "for row in input.splitlines():\n",
    "    incr_decr = False\n",
    "    safe_steps = False\n",
    "    # Split row by numbers in it separated by space\n",
    "    ints = split_ints_from_str(row)\n",
    "    \n",
    "    if ints == sorted(ints) or ints == sorted(ints, reverse = True):\n",
    "        incr_decr = True\n",
    "\n",
    "        for i in range(len(ints)):\n",
    "            if (i + 1) < len(ints):\n",
    "                if abs(ints[i + 1] - ints[i]) >= 1 and abs(ints[i + 1] - ints[i]) <= 3:\n",
    "                    safe_steps = True\n",
    "                else:\n",
    "                    safe_steps = False\n",
    "                    break\n",
    "        \n",
    "    if incr_decr and safe_steps:\n",
    "        safe_reports = safe_reports + 1\n",
    "        \n",
    "print(safe_reports)"
   ]
  },
  {
   "cell_type": "markdown",
   "metadata": {},
   "source": [
    "# Second Part"
   ]
  },
  {
   "cell_type": "code",
   "execution_count": 53,
   "metadata": {},
   "outputs": [
    {
     "name": "stdout",
     "output_type": "stream",
     "text": [
      "520\n"
     ]
    }
   ],
   "source": [
    "safe_reports = 0\n",
    "\n",
    "for row in input.splitlines():\n",
    "    incr_decr = False\n",
    "    safe_steps = False\n",
    "    # Split row by numbers in it separated by space\n",
    "    ints = split_ints_from_str(row)\n",
    "    \n",
    "    for excl in range(len(ints)):\n",
    "        problem_damp = ints[:excl] + ints[excl+1:]\n",
    "    \n",
    "        if problem_damp == sorted(problem_damp) or problem_damp == sorted(problem_damp, reverse = True):\n",
    "            incr_decr = True\n",
    "\n",
    "            for i in range(len(problem_damp)):\n",
    "                if (i + 1) < len(problem_damp):\n",
    "                    if abs(problem_damp[i + 1] - problem_damp[i]) >= 1 and abs(problem_damp[i + 1] - problem_damp[i]) <= 3:\n",
    "                        safe_steps = True\n",
    "                    else:\n",
    "                        safe_steps = False\n",
    "                        break\n",
    "            \n",
    "        if safe_steps and incr_decr:\n",
    "            break\n",
    "            \n",
    "    if incr_decr and safe_steps:\n",
    "        safe_reports = safe_reports + 1\n",
    "        \n",
    "print(safe_reports)"
   ]
  },
  {
   "cell_type": "code",
   "execution_count": null,
   "metadata": {},
   "outputs": [],
   "source": []
  }
 ],
 "metadata": {
  "kernelspec": {
   "display_name": "gousto-analysis-env",
   "language": "python",
   "name": "python3"
  },
  "language_info": {
   "codemirror_mode": {
    "name": "ipython",
    "version": 3
   },
   "file_extension": ".py",
   "mimetype": "text/x-python",
   "name": "python",
   "nbconvert_exporter": "python",
   "pygments_lexer": "ipython3",
   "version": "3.10.14"
  }
 },
 "nbformat": 4,
 "nbformat_minor": 2
}
