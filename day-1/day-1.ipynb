{
 "cells": [
  {
   "cell_type": "markdown",
   "metadata": {},
   "source": [
    "# First Part"
   ]
  },
  {
   "cell_type": "code",
   "execution_count": 11,
   "metadata": {},
   "outputs": [],
   "source": [
    "# Load input\n",
    "\n",
    "with open('input.txt', 'r') as f:\n",
    "    input = f.read()"
   ]
  },
  {
   "cell_type": "code",
   "execution_count": 27,
   "metadata": {},
   "outputs": [],
   "source": [
    "# parse input considering newlines and tabs, creating two separate numpy arrays\n",
    "\n",
    "list_1 = []\n",
    "list_2 = []\n",
    "\n",
    "for row in input.splitlines():\n",
    "    row_1, row_2 = row.split('   ', 2)\n",
    "    list_1.append(int(row_1))\n",
    "    list_2.append(int(row_2))\n",
    "\n",
    "sorted_list_1 = sorted(list_1)\n",
    "sorted_list_2 = sorted(list_2)"
   ]
  },
  {
   "cell_type": "code",
   "execution_count": 32,
   "metadata": {},
   "outputs": [
    {
     "name": "stdout",
     "output_type": "stream",
     "text": [
      "The answer is: 2264607\n"
     ]
    }
   ],
   "source": [
    "diff = 0\n",
    "\n",
    "if len(sorted_list_1) == len(sorted_list_2):\n",
    "    for i in range(0, len(sorted_list_1)):\n",
    "        diff = diff + abs(sorted_list_1[i] - sorted_list_2[i])\n",
    "else:\n",
    "    print('The arrays are in different size.')\n",
    "    \n",
    "print(f'The answer is: {diff}')"
   ]
  },
  {
   "cell_type": "markdown",
   "metadata": {},
   "source": [
    "## Second Part"
   ]
  },
  {
   "cell_type": "code",
   "execution_count": 45,
   "metadata": {},
   "outputs": [
    {
     "name": "stdout",
     "output_type": "stream",
     "text": [
      "The similarity score is: 19457120\n"
     ]
    }
   ],
   "source": [
    "count = 0\n",
    "similarity = []\n",
    "\n",
    "for i in sorted_list_1:\n",
    "    count = 0\n",
    "    for j in sorted_list_2:\n",
    "        if i == j:\n",
    "            count = count + 1\n",
    "        if j > i:\n",
    "            break\n",
    "    similarity.append(i * count)\n",
    "    \n",
    "print(f'The similarity score is: {sum(similarity)}')"
   ]
  },
  {
   "cell_type": "code",
   "execution_count": null,
   "metadata": {},
   "outputs": [],
   "source": []
  }
 ],
 "metadata": {
  "kernelspec": {
   "display_name": "gousto-analysis-env",
   "language": "python",
   "name": "python3"
  },
  "language_info": {
   "codemirror_mode": {
    "name": "ipython",
    "version": 3
   },
   "file_extension": ".py",
   "mimetype": "text/x-python",
   "name": "python",
   "nbconvert_exporter": "python",
   "pygments_lexer": "ipython3",
   "version": "3.10.14"
  }
 },
 "nbformat": 4,
 "nbformat_minor": 2
}
